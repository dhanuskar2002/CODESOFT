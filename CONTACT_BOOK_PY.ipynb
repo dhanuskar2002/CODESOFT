{
  "nbformat": 4,
  "nbformat_minor": 0,
  "metadata": {
    "colab": {
      "provenance": [],
      "authorship_tag": "ABX9TyPq69zK8SnO/OdthKDhUcP9",
      "include_colab_link": true
    },
    "kernelspec": {
      "name": "python3",
      "display_name": "Python 3"
    },
    "language_info": {
      "name": "python"
    }
  },
  "cells": [
    {
      "cell_type": "markdown",
      "metadata": {
        "id": "view-in-github",
        "colab_type": "text"
      },
      "source": [
        "<a href=\"https://colab.research.google.com/github/dhanuskar2002/CODESOFT/blob/main/CONTACT_BOOK_PY.ipynb\" target=\"_parent\"><img src=\"https://colab.research.google.com/assets/colab-badge.svg\" alt=\"Open In Colab\"/></a>"
      ]
    },
    {
      "cell_type": "code",
      "execution_count": null,
      "metadata": {
        "colab": {
          "base_uri": "https://localhost:8080/"
        },
        "id": "KBlOFPg9SX1g",
        "outputId": "f8ce4f8b-0abf-44b3-a3b3-b1b12216fa93"
      },
      "outputs": [
        {
          "output_type": "stream",
          "name": "stdout",
          "text": [
            "\n",
            "Contact Book Menu:\n",
            "1. Add Contact\n",
            "2. View Contacts\n",
            "3. Search Contact\n",
            "4. Update Contact\n",
            "5. Delete Contact\n",
            "6. Exit\n",
            "Enter your choice (1/2/3/4/5/6): 1\n",
            "Enter name: JIHN\n",
            "Enter phone number: 9344828096\n",
            "Enter email: JIHN23@GMAIL.COM\n",
            "Enter address: VINAYAKAR KOVIL ST, MADURAI\n",
            "Contact JIHN added successfully.\n",
            "\n",
            "Contact Book Menu:\n",
            "1. Add Contact\n",
            "2. View Contacts\n",
            "3. Search Contact\n",
            "4. Update Contact\n",
            "5. Delete Contact\n",
            "6. Exit\n"
          ]
        }
      ],
      "source": [
        "class Contact:\n",
        "    def __init__(self, name, phone, email, address):\n",
        "        self.name = name\n",
        "        self.phone = phone\n",
        "        self.email = email\n",
        "        self.address = address\n",
        "\n",
        "class ContactBook:\n",
        "    def __init__(self):\n",
        "        self.contacts = {}\n",
        "\n",
        "    def add_contact(self, name, phone, email, address):\n",
        "        if name not in self.contacts:\n",
        "            contact = Contact(name, phone, email, address)\n",
        "            self.contacts[name] = contact\n",
        "            print(f\"Contact {name} added successfully.\")\n",
        "        else:\n",
        "            print(\"Contact already exists.\")\n",
        "\n",
        "    def view_contacts(self):\n",
        "        if not self.contacts:\n",
        "            print(\"Contact book is empty.\")\n",
        "        else:\n",
        "            print(\"Contact List:\")\n",
        "            for name, contact in self.contacts.items():\n",
        "                print(f\"Name: {name}\")\n",
        "                print(f\"Phone: {contact.phone}\")\n",
        "                print(f\"Email: {contact.email}\")\n",
        "                print(f\"Address: {contact.address}\")\n",
        "                print()\n",
        "\n",
        "    def search_contact(self, keyword):\n",
        "        found = False\n",
        "        for name, contact in self.contacts.items():\n",
        "            if keyword in (name, contact.phone):\n",
        "                print(f\"Name: {name}\")\n",
        "                print(f\"Phone: {contact.phone}\")\n",
        "                print(f\"Email: {contact.email}\")\n",
        "                print(f\"Address: {contact.address}\")\n",
        "                print()\n",
        "                found = True\n",
        "        if not found:\n",
        "            print(\"Contact not found.\")\n",
        "\n",
        "    def update_contact(self, name, phone, email, address):\n",
        "        if name in self.contacts:\n",
        "            contact = Contact(name, phone, email, address)\n",
        "            self.contacts[name] = contact\n",
        "            print(f\"Contact {name} updated successfully.\")\n",
        "        else:\n",
        "            print(\"Contact not found. Cannot update.\")\n",
        "\n",
        "    def delete_contact(self, name):\n",
        "        if name in self.contacts:\n",
        "            del self.contacts[name]\n",
        "            print(f\"Contact {name} deleted successfully.\")\n",
        "        else:\n",
        "            print(\"Contact not found. Cannot delete.\")\n",
        "\n",
        "def main():\n",
        "    contact_book = ContactBook()\n",
        "\n",
        "    while True:\n",
        "        print(\"\\nContact Book Menu:\")\n",
        "        print(\"1. Add Contact\")\n",
        "        print(\"2. View Contacts\")\n",
        "        print(\"3. Search Contact\")\n",
        "        print(\"4. Update Contact\")\n",
        "        print(\"5. Delete Contact\")\n",
        "        print(\"6. Exit\")\n",
        "        choice = input(\"Enter your choice (1/2/3/4/5/6): \")\n",
        "\n",
        "        if choice == '1':\n",
        "            name = input(\"Enter name: \")\n",
        "            phone = input(\"Enter phone number: \")\n",
        "            email = input(\"Enter email: \")\n",
        "            address = input(\"Enter address: \")\n",
        "            contact_book.add_contact(name, phone, email, address)\n",
        "        elif choice == '2':\n",
        "            contact_book.view_contacts()\n",
        "        elif choice == '3':\n",
        "            keyword = input(\"Enter name or phone number to search: \")\n",
        "            contact_book.search_contact(keyword)\n",
        "        elif choice == '4':\n",
        "            name = input(\"Enter the name to update: \")\n",
        "            phone = input(\"Enter new phone number: \")\n",
        "            email = input(\"Enter new email: \")\n",
        "            address = input(\"Enter new address: \")\n",
        "            contact_book.update_contact(name, phone, email, address)\n",
        "        elif choice == '5':\n",
        "            name = input(\"Enter the name to delete: \")\n",
        "            contact_book.delete_contact(name)\n",
        "        elif choice == '6':\n",
        "            print(\"Exiting the Contact Book. Goodbye!\")\n",
        "            break\n",
        "        else:\n",
        "            print(\"Invalid choice. Please select 1, 2, 3, 4, 5, or 6.\")\n",
        "\n",
        "if __name__ == \"__main__\":\n",
        "    main()\n"
      ]
    },
    {
      "cell_type": "code",
      "source": [],
      "metadata": {
        "id": "s2yKZQEHT0lQ"
      },
      "execution_count": null,
      "outputs": []
    },
    {
      "cell_type": "markdown",
      "source": [],
      "metadata": {
        "id": "iahAbodpT1Hk"
      }
    },
    {
      "cell_type": "code",
      "source": [],
      "metadata": {
        "id": "6WDvMF2NT2A3"
      },
      "execution_count": null,
      "outputs": []
    },
    {
      "cell_type": "markdown",
      "source": [],
      "metadata": {
        "id": "-e4551GGT2V3"
      }
    }
  ]
}